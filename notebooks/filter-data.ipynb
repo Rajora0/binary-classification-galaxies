{
 "cells": [
  {
   "cell_type": "code",
   "execution_count": 10,
   "metadata": {},
   "outputs": [
    {
     "data": {
      "text/plain": [
       "<pandas._config.config.option_context at 0x7f35bac11a50>"
      ]
     },
     "execution_count": 10,
     "metadata": {},
     "output_type": "execute_result"
    }
   ],
   "source": [
    "import pandas as pd\n",
    "import shutil\n",
    "import os\n",
    "\n",
    "pd.option_context('mode.use_inf_as_na', False)"
   ]
  },
  {
   "cell_type": "markdown",
   "metadata": {},
   "source": [
    "**Grupo Elípticas:**\n",
    "\n",
    "* `completely_round`: Galáxias com uma forma perfeitamente circular (Class7.1).\n",
    "* `in_between`: Galáxias com uma forma entre completamente redonda e em forma de charuto (Class7.2).\n",
    "* `cigar_shaped`: Galáxias elípticas com uma aparência alongada, semelhante a um charuto (Class7.3).\n",
    "\n",
    "**Grupo Espirais:**\n",
    "\n",
    "* `on_edge`: Galáxias espirais vistas de lado, fazendo com que pareçam planas (Class2.1).\n",
    "* `has_signs_of_spiral`: Galáxias que mostram alguns indícios de braços espirais, mas não totalmente desenvolvidos (Class4.1).\n",
    "* `spiral_barred`: Galáxias espirais com uma estrutura central em forma de barra da qual os braços se estendem (Class3.1).\n",
    "* `spiral`: Galáxias espirais clássicas com braços em espiral para fora do centro (Class3.2)."
   ]
  },
  {
   "cell_type": "code",
   "execution_count": 6,
   "metadata": {},
   "outputs": [
    {
     "data": {
      "text/plain": [
       "type\n",
       "eliptical    3719\n",
       "spiral       3719\n",
       "Name: count, dtype: int64"
      ]
     },
     "execution_count": 6,
     "metadata": {},
     "output_type": "execute_result"
    }
   ],
   "source": [
    "#%% Loading csv and adjusting the dataframe\n",
    "original_training_data = pd.read_csv(\"/home/rafael/Downloads/binary-classification-galaxies/data/galaxy-zoo-data/training_solutions_rev1/training_solutions_rev1.csv\")\n",
    "\n",
    "columns_mapper = {\n",
    "    \"GalaxyID\": \"GalaxyID\",\n",
    "    \"Class7.1\": \"completely_round\",\n",
    "    \"Class7.2\": \"in_between\",\n",
    "    \"Class7.3\": \"cigar_shaped\",\n",
    "    \"Class2.1\": \"on_edge\",\n",
    "    \"Class4.1\": \"has_signs_of_spiral\",\n",
    "    \"Class3.1\": \"spiral_barred\",\n",
    "    \"Class3.2\": \"spiral\",\n",
    "}\n",
    "\n",
    "df_galaxies = original_training_data.rename(columns=columns_mapper)[list(columns_mapper.values())]\n",
    "df_eliptical = df_galaxies.query(\"completely_round > 0.8 or in_between > 0.8 or cigar_shaped > 0.8 or on_edge > 0.8\")[['GalaxyID']]\n",
    "df_spiral = df_galaxies.query(\"has_signs_of_spiral > 0.8 or spiral_barred > 0.8 or spiral > 0.8\")[['GalaxyID']]\n",
    "\n",
    "df_spiral['type'] = 'spiral'\n",
    "df_eliptical['type'] = 'eliptical'\n",
    "\n",
    "df = pd.concat([df_eliptical, df_spiral.sample(n=3719)])\n",
    "df.type.value_counts()"
   ]
  },
  {
   "cell_type": "code",
   "execution_count": 7,
   "metadata": {},
   "outputs": [],
   "source": [
    "# df.to_csv('/home/rafael/Downloads/binary-classification-galaxies/data/filtered_data.csv', index=False, sep=';')"
   ]
  },
  {
   "cell_type": "code",
   "execution_count": 8,
   "metadata": {},
   "outputs": [],
   "source": [
    "# Define origin and destination paths\n",
    "origin_path = \"/home/rafael/Downloads/binary-classification-galaxies/data/galaxy-zoo-data/images_training_rev1/\" \n",
    "destination_path_spiral = \"/home/rafael/Downloads/binary-classification-galaxies/data/filtered_data/spiral/\"\n",
    "destination_path_eliptical = \"/home/rafael/Downloads/binary-classification-galaxies/data/filtered_data/eliptical/\""
   ]
  },
  {
   "cell_type": "code",
   "execution_count": 11,
   "metadata": {},
   "outputs": [
    {
     "name": "stdout",
     "output_type": "stream",
     "text": [
      "Files copied successfully!\n"
     ]
    }
   ],
   "source": [
    "#%% Copy files based on type\n",
    "for index, row in df.iterrows():\n",
    "    galaxy_id = str(row['GalaxyID'])\n",
    "    galaxy_type = row['type']\n",
    "    \n",
    "    file_name = f\"{galaxy_id}.jpg\"\n",
    "    origin_file_path = os.path.join(origin_path, file_name)\n",
    "    \n",
    "    if galaxy_type == 'spiral':\n",
    "        destination_file_path = os.path.join(destination_path_spiral, file_name)\n",
    "    else:\n",
    "        destination_file_path = os.path.join(destination_path_eliptical, file_name)\n",
    "    \n",
    "    shutil.copyfile(origin_file_path, destination_file_path)\n",
    "\n",
    "print(\"Files copied successfully!\")"
   ]
  }
 ],
 "metadata": {
  "kernelspec": {
   "display_name": "base",
   "language": "python",
   "name": "python3"
  },
  "language_info": {
   "codemirror_mode": {
    "name": "ipython",
    "version": 3
   },
   "file_extension": ".py",
   "mimetype": "text/x-python",
   "name": "python",
   "nbconvert_exporter": "python",
   "pygments_lexer": "ipython3",
   "version": "3.11.5"
  }
 },
 "nbformat": 4,
 "nbformat_minor": 2
}
